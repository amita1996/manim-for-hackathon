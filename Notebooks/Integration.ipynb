{
 "cells": [
  {
   "cell_type": "code",
   "execution_count": 1,
   "metadata": {},
   "outputs": [],
   "source": [
    "import jupyter_manim"
   ]
  },
  {
   "cell_type": "code",
   "execution_count": 2,
   "metadata": {},
   "outputs": [
    {
     "data": {
      "text/html": [
       "\n",
       "    <video\n",
       "      width=\"854\"\n",
       "      height=\"480\"\n",
       "      autoplay=\"autoplay\"\n",
       "      controls\n",
       "    >\n",
       "        <source src=\"media\\videos\\tmp9lpgx1gm\\1440p60\\Integration.mp4\" type=\"video/mp4\">\n",
       "    </video>\n",
       "    "
      ],
      "text/plain": [
       "<IPython.core.display.HTML object>"
      ]
     },
     "execution_count": 2,
     "metadata": {},
     "output_type": "execute_result"
    }
   ],
   "source": [
    "%%manim Integration\n",
    "from manimlib.scene.scene import Scene\n",
    "from manimlib.imports import *\n",
    "\n",
    "class Integration(Scene):\n",
    "    def construct(self):\n",
    "        formula = TexMobject(r\"\\int\",#0\n",
    "                             r\"arctanx\",#1\n",
    "                             r\"dx\" ,#2\n",
    "                             r\" = \", #3\n",
    "                             r\"\\int\", #4\n",
    "                             r\"1\", #5\n",
    "                             r\" \\cdot\",#6\n",
    "                             r\"arctanx\",#7\n",
    "                             r\"dx\",#8\n",
    "                             r\" \\Rightarrow \\begin{Bmatrix} v' = 1 & v = x \\\\ u = arctanx & u' = {1\\over1+x^2} \\\\ \\end{Bmatrix}\\\\\" #9\n",
    "                            )\n",
    "                \n",
    "        self.play(Write(formula[0:4]))\n",
    "        self.wait()\n",
    "        self.play(ReplacementTransform(formula[0].copy(),formula[4]))\n",
    "        self.play(GrowFromCenter(formula[5:7]))\n",
    "        self.play(ReplacementTransform(formula[1].copy(),formula[7]))\n",
    "        self.play(ReplacementTransform(formula[2].copy(),formula[8]))\n",
    "        self.wait()\n",
    "        brace1 = Brace(formula[5],UP, buff=SMALL_BUFF)\n",
    "        t1 = brace1.get_text(\"$v'$\")\n",
    "        brace2 = Brace(formula[7],UP, buff=SMALL_BUFF)\n",
    "        t2 = brace2.get_text(\"$u$\")\n",
    "        self.play(GrowFromCenter(brace1),Write(t1))\n",
    "        self.play(Indicate(formula[5]))\n",
    "        self.play(GrowFromCenter(brace2),Write(t2))\n",
    "        self.play(Indicate(formula[7]))\n",
    "        self.wait()\n",
    "        self.play(Write(formula[9]))\n",
    "        self.play(FadeOut(t1),FadeOut(brace1),FadeOut(t2),FadeOut(brace2))\n",
    "        \n",
    "        transformed_formula = TexMobject(r\"\\int\",#0\n",
    "                             r\"arctanx\",#1\n",
    "                             r\"dx\" ,#2\n",
    "                             r\" = \", #3\n",
    "                             r\"\\int\", #4\n",
    "                             r\"1\", #5\n",
    "                             r\" \\cdot\",#6\n",
    "                             r\"arctanx\",#7\n",
    "                             r\"dx\",#8\n",
    "                             r\" \\Rightarrow \\begin{Bmatrix} v' = 1 & v = x \\\\ u = arctanx & u' = {1\\over1+x^2} \\\\ \\end{Bmatrix}\\\\\" #9\n",
    "                            )\n",
    "        \n",
    "        transformed_formula.to_corner(UL)\n",
    "        transformed_formula.scale(0.8)\n",
    "        \n",
    "        self.play(Transform(formula,transformed_formula))\n",
    "        \n",
    "        second_formula = TexMobject(r\"x\", #0\n",
    "                                    r\"\\cdot\", #1\n",
    "                                    r\"arctanx\",#2\n",
    "                                    r\"- \\int\",#3\n",
    "                                    r\"{x\\over1+x^2}\",#4\n",
    "                                    r\"dx\"#5\n",
    "                                   )\n",
    "        \n",
    "        second_formula.scale(1.2)\n",
    "        self.play(Write(second_formula))\n",
    "        self.wait()\n",
    "        \n",
    "        #Second formula braces\n",
    "        brace_uv = Brace(second_formula[0:3],DOWN, buff=SMALL_BUFF)\n",
    "        text_uv = brace_uv.get_text(\"$u \\\\cdot v$\")\n",
    "        brace_utag_v = Brace(second_formula[4],DOWN, buff=SMALL_BUFF)\n",
    "        text_utag_v = brace_utag_v.get_text(\"$u' \\\\cdot v$\")\n",
    "        \n",
    "        self.play(GrowFromCenter(brace_uv),Write(text_uv))\n",
    "        self.play(Indicate(second_formula[0:3]))\n",
    "        self.play(GrowFromCenter(brace_utag_v),Write(text_utag_v))\n",
    "        self.play(Indicate(second_formula[4]))\n",
    "        \n",
    "        self.wait()\n",
    "        "
   ]
  },
  {
   "cell_type": "code",
   "execution_count": null,
   "metadata": {},
   "outputs": [],
   "source": []
  }
 ],
 "metadata": {
  "kernelspec": {
   "display_name": "Python 3",
   "language": "python",
   "name": "python3"
  },
  "language_info": {
   "codemirror_mode": {
    "name": "ipython",
    "version": 3
   },
   "file_extension": ".py",
   "mimetype": "text/x-python",
   "name": "python",
   "nbconvert_exporter": "python",
   "pygments_lexer": "ipython3",
   "version": "3.8.5"
  }
 },
 "nbformat": 4,
 "nbformat_minor": 4
}
