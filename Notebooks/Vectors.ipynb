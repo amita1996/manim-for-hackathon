{
 "cells": [
  {
   "cell_type": "code",
   "execution_count": 1,
   "metadata": {},
   "outputs": [],
   "source": [
    "import jupyter_manim"
   ]
  },
  {
   "cell_type": "code",
   "execution_count": 2,
   "metadata": {},
   "outputs": [
    {
     "data": {
      "text/html": [
       "\n",
       "    <video\n",
       "      width=\"854\"\n",
       "      height=\"480\"\n",
       "      autoplay=\"autoplay\"\n",
       "      controls\n",
       "    >\n",
       "        <source src=\"media\\videos\\tmpflx0gbce\\1440p60\\Vectors.mp4\" type=\"video/mp4\">\n",
       "    </video>\n",
       "    "
      ],
      "text/plain": [
       "<IPython.core.display.HTML object>"
      ]
     },
     "execution_count": 2,
     "metadata": {},
     "output_type": "execute_result"
    }
   ],
   "source": [
    "%%manim Vectors\n",
    "from manimlib.scene.scene import Scene\n",
    "from manimlib.imports import *\n",
    "import numpy as np\n",
    "\n",
    "class Vectors(VectorScene):\n",
    "    \n",
    "    CONFIG = {\n",
    "        \"show_basis_vectors\": True,\n",
    "        \"foreground_plane_kwargs\": {\n",
    "            \"x_max\":10,\n",
    "            \"x_min\": -10,\n",
    "            \"y_max\":10,\n",
    "            \"y_min\":-10\n",
    "        }\n",
    "    }\n",
    "    \n",
    "    def construct(self):\n",
    "        self.add_axes(animate=True)\n",
    "        self.add_plane(animate=True)\n",
    "        \n",
    "        vec1 = Vector([1,-2])\n",
    "        vec2 = Vector([4,1])\n",
    "        vec3 = Vector([5,-1])\n",
    "        \n",
    "        vec1.set_color(RED)\n",
    "        vec2.set_color(GREEN)\n",
    "        vec3.set_color(ORANGE)\n",
    "        \n",
    "        v = TexMobject(r\"\\vec{v} = \\begin{bmatrix}1\\\\-2\\end{bmatrix} ,\").to_corner(UL)\n",
    "        w = TexMobject(r\"\\vec{w} = \\begin{bmatrix}4\\\\1\\end{bmatrix} \").next_to(v,RIGHT,buff = 0.5)\n",
    "        v_w = TexMobject(r\"\\vec{v} + \\vec{w} = \\begin{bmatrix}1 + 4\\\\-2 + 1\\end{bmatrix} = \\begin{bmatrix}5\\\\-1\\end{bmatrix} \").move_to(np.array([-3.8,1,0]))\n",
    "        v.set_color(RED)\n",
    "        w.set_color(GREEN)\n",
    "        v_w.set_color(ORANGE)\n",
    "        \n",
    "        rect = Rectangle(fill_color = BLACK,fill_opacity=1,height = 4.2 , width = 7.2)\n",
    "        rect.move_to(np.array([-3.6,2.1,0]))\n",
    "        self.add_vector(vec1)\n",
    "        labelVector1 = vector_coordinate_label(vec1,color=RED)\n",
    "        self.play(ShowCreation(labelVector1))\n",
    "        self.wait()\n",
    "        \n",
    "        self.add_vector(vec2)\n",
    "        labelVector2 = vector_coordinate_label(vec2,color=GREEN)\n",
    "        self.play(ShowCreation(labelVector2))\n",
    "        self.wait()\n",
    "        \n",
    "        self.play(Write(rect))\n",
    "        self.play(Write(v),Write(w))\n",
    "        self.wait()\n",
    "        self.play(FadeOut(labelVector1),FadeOut(labelVector2))\n",
    "        self.add_vector(vec3)\n",
    "        self.wait()\n",
    "        self.play(Write(v_w))\n",
    "        self.wait()\n",
    "        \n",
    "        self.play(ApplyMethod(vec2.shift, vec1.get_end()))\n",
    "        labelVector3 = vector_coordinate_label(vec3,color=ORANGE)\n",
    "        self.play(ShowCreation(labelVector3))\n",
    "        self.wait(3)"
   ]
  },
  {
   "cell_type": "code",
   "execution_count": null,
   "metadata": {},
   "outputs": [],
   "source": []
  }
 ],
 "metadata": {
  "kernelspec": {
   "display_name": "Python 3",
   "language": "python",
   "name": "python3"
  },
  "language_info": {
   "codemirror_mode": {
    "name": "ipython",
    "version": 3
   },
   "file_extension": ".py",
   "mimetype": "text/x-python",
   "name": "python",
   "nbconvert_exporter": "python",
   "pygments_lexer": "ipython3",
   "version": "3.8.5"
  }
 },
 "nbformat": 4,
 "nbformat_minor": 4
}
